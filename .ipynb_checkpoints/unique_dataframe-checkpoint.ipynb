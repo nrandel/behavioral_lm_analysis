{
 "cells": [
  {
   "cell_type": "code",
   "execution_count": 1,
   "metadata": {},
   "outputs": [],
   "source": [
    "#to make the plot in the notebook and not in an extra window\n",
    "%matplotlib notebook \n",
    "\n",
    "import csv\n",
    "import numpy as np\n",
    "import pandas as pd"
   ]
  },
  {
   "cell_type": "code",
   "execution_count": 5,
   "metadata": {},
   "outputs": [
    {
     "name": "stdout",
     "output_type": "stream",
     "text": [
      "      Area        X     Y  Slice\n",
      "0  1     0  246.667  79.0     15\n",
      "1  2     0  246.667  79.0     15\n",
      "2  3     0  267.000  75.0     15\n",
      "3  4     0  246.667  79.0     15\n",
      "4  5     0  267.000  75.0     15\n"
     ]
    }
   ],
   "source": [
    "#if ROIs set in fiji multitracker you get duplicates. get rid of them\n",
    "with open('/Users/nadine/Desktop/difGausianFilter/fused/manual/17_08_26L6.csv', 'r') as csvfile:\n",
    "\n",
    "\n",
    "    #df = pd.read_csv(csvfile, delim_whitespace=True, names=names)\n",
    "    df = pd.read_csv(csvfile, delimiter = ',')\n",
    "    #df = pd.read_csv(csvfile, delimiter = ',', header=None)\n",
    "\n",
    "    print(df.head())\n",
    "    #print(df.tail())"
   ]
  },
  {
   "cell_type": "code",
   "execution_count": 9,
   "metadata": {},
   "outputs": [
    {
     "name": "stdout",
     "output_type": "stream",
     "text": [
      "4390\n"
     ]
    }
   ],
   "source": [
    "df_unique = np.unique(df[['X', 'Y', 'Slice']], axis=0)\n",
    "\n",
    "print(len(df_unique))"
   ]
  },
  {
   "cell_type": "code",
   "execution_count": 7,
   "metadata": {},
   "outputs": [
    {
     "name": "stdout",
     "output_type": "stream",
     "text": [
      "[[ 27.    601.     45.   ]\n",
      " [ 28.333 614.667  41.   ]\n",
      " [ 29.    592.667  41.   ]\n",
      " ...\n",
      " [445.    626.667  43.   ]\n",
      " [447.    620.667  45.   ]\n",
      " [449.333 625.     43.   ]]\n"
     ]
    }
   ],
   "source": [
    "print(df_unique)"
   ]
  },
  {
   "cell_type": "code",
   "execution_count": null,
   "metadata": {},
   "outputs": [],
   "source": [
    "np.savetxt(\"17_08_26L6.csv\", df_unique, delimiter=\",\")"
   ]
  },
  {
   "cell_type": "code",
   "execution_count": null,
   "metadata": {},
   "outputs": [],
   "source": []
  }
 ],
 "metadata": {
  "kernelspec": {
   "display_name": "Python 3",
   "language": "python",
   "name": "python3"
  },
  "language_info": {
   "codemirror_mode": {
    "name": "ipython",
    "version": 3
   },
   "file_extension": ".py",
   "mimetype": "text/x-python",
   "name": "python",
   "nbconvert_exporter": "python",
   "pygments_lexer": "ipython3",
   "version": "3.7.3"
  }
 },
 "nbformat": 4,
 "nbformat_minor": 2
}
