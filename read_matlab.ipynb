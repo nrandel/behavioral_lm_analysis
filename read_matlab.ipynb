{
 "cells": [
  {
   "cell_type": "code",
   "execution_count": 14,
   "metadata": {},
   "outputs": [],
   "source": [
    "#import h5py\n",
    "#f = h5py.File('/Users/nadine/Downloads/Traces/traces.mat','r')\n",
    "#myvar = f['myvar'].value\n",
    "#print(f)"
   ]
  },
  {
   "cell_type": "code",
   "execution_count": 29,
   "metadata": {},
   "outputs": [
    {
     "name": "stdout",
     "output_type": "stream",
     "text": [
      "{'__header__': b'MATLAB 5.0 MAT-file, Platform: PCWIN64, Created on: Wed Dec 18 11:21:58 2019', '__version__': '1.0', '__globals__': [], 'baseline': array([[141.8617284 , 115.31111111, 149.08148148, ..., 216.04444444,\n",
      "        127.42222222, 187.52592593],\n",
      "       [142.0691358 , 115.35061728, 149.17530864, ..., 216.11358025,\n",
      "        127.43703704, 187.52716049],\n",
      "       [142.27654321, 115.39012346, 149.2691358 , ..., 216.18271605,\n",
      "        127.45185185, 187.52839506],\n",
      "       ...,\n",
      "       [128.2617284 , 110.78271605, 138.59506173, ..., 157.84938272,\n",
      "        115.70123457, 141.59259259],\n",
      "       [128.25679012, 110.77283951, 138.58395062, ..., 157.80493827,\n",
      "        115.69382716, 141.58641975],\n",
      "       [128.25185185, 110.83950617, 138.57283951, ..., 157.76049383,\n",
      "        115.68641975, 141.58024691]]), 'labels': array([[array(['1'], dtype='<U1'), array(['10'], dtype='<U2'),\n",
      "        array(['100'], dtype='<U3'), ..., array(['4388'], dtype='<U4'),\n",
      "        array(['4389'], dtype='<U4'), array(['4390'], dtype='<U4')]],\n",
      "      dtype=object), 'timepoints': array([[   0],\n",
      "       [   1],\n",
      "       [   2],\n",
      "       ...,\n",
      "       [6699],\n",
      "       [6700],\n",
      "       [6701]], dtype=uint16), 'tracesDFF': array([[-1.57425976e-01,  2.56410256e-02, -1.14699668e-02, ...,\n",
      "        -2.31499213e-02, -3.74572303e-02, -8.46310088e-05],\n",
      "       [-3.45110929e-02, -2.52533376e-02, -2.89214702e-02, ...,\n",
      "        -4.16790712e-03, -3.77969762e-03,  4.23149075e-05],\n",
      "       [ 9.81193786e-03,  6.85063372e-02,  3.38779192e-02, ...,\n",
      "         4.60322183e-02,  1.07933081e-03,  2.97892747e-02],\n",
      "       ...,\n",
      "       [-1.39786825e-03,  1.46095718e-01,  3.03243554e-02, ...,\n",
      "         5.12612574e-02,  1.19672905e-01,  4.33363016e-02],\n",
      "       [ 5.64487941e-02,  4.97364199e-02,  1.01430263e-02, ...,\n",
      "         4.39536970e-02,  4.94021397e-02,  1.46949681e-02],\n",
      "       [ 8.56493620e-03,  1.56036446e-01,  3.07258994e-03, ...,\n",
      "         1.86808019e-02,  3.17960019e-02,  3.02850356e-02]]), 'tracesRaw': array([[135.27160494, 115.7037037 , 148.51851852, ..., 213.35802469,\n",
      "        126.39506173, 187.51851852],\n",
      "       [140.61728395, 114.96296296, 147.75308642, ..., 215.62962963,\n",
      "        127.33333333, 187.5308642 ],\n",
      "       [142.69135802, 116.44444444, 150.9382716 , ..., 221.5308642 ,\n",
      "        127.48148148, 190.13580247],\n",
      "       ...,\n",
      "       [128.22222222, 112.35802469, 139.7654321 , ..., 160.81481481,\n",
      "        117.58024691, 143.39506173],\n",
      "       [129.85185185, 111.30864198, 138.97530864, ..., 160.34567901,\n",
      "        116.4691358 , 142.19753086],\n",
      "       [128.49382716, 112.5308642 , 138.69135802, ..., 158.83950617,\n",
      "        116.18518519, 142.83950617]])}\n"
     ]
    }
   ],
   "source": [
    "import scipy.io\n",
    "f = scipy.io.loadmat('/Users/nadine/Downloads/Traces/traces.mat')\n",
    "print(f)"
   ]
  },
  {
   "cell_type": "code",
   "execution_count": 37,
   "metadata": {},
   "outputs": [
    {
     "name": "stdout",
     "output_type": "stream",
     "text": [
      "baseline\n",
      "labels\n",
      "timepoints\n",
      "tracesDFF\n",
      "tracesRaw\n"
     ]
    }
   ],
   "source": [
    "for key, value in f.items() :\n",
    "    print(key)\n",
    "    #print(key, value)"
   ]
  },
  {
   "cell_type": "code",
   "execution_count": 46,
   "metadata": {},
   "outputs": [
    {
     "ename": "TypeError",
     "evalue": "string indices must be integers",
     "output_type": "error",
     "traceback": [
      "\u001b[0;31m---------------------------------------------------------------------------\u001b[0m",
      "\u001b[0;31mTypeError\u001b[0m                                 Traceback (most recent call last)",
      "\u001b[0;32m<ipython-input-46-782a6e723765>\u001b[0m in \u001b[0;36m<module>\u001b[0;34m\u001b[0m\n\u001b[1;32m      3\u001b[0m \u001b[0;34m\u001b[0m\u001b[0m\n\u001b[1;32m      4\u001b[0m \u001b[0;32mfrom\u001b[0m \u001b[0moperator\u001b[0m \u001b[0;32mimport\u001b[0m \u001b[0mitemgetter\u001b[0m\u001b[0;34m\u001b[0m\u001b[0;34m\u001b[0m\u001b[0m\n\u001b[0;32m----> 5\u001b[0;31m \u001b[0mres\u001b[0m \u001b[0;34m=\u001b[0m \u001b[0mlist\u001b[0m\u001b[0;34m(\u001b[0m\u001b[0mmap\u001b[0m\u001b[0;34m(\u001b[0m\u001b[0mitemgetter\u001b[0m\u001b[0;34m(\u001b[0m\u001b[0;34m'tracesDFF'\u001b[0m\u001b[0;34m)\u001b[0m\u001b[0;34m,\u001b[0m \u001b[0mf\u001b[0m\u001b[0;34m)\u001b[0m\u001b[0;34m)\u001b[0m\u001b[0;34m\u001b[0m\u001b[0;34m\u001b[0m\u001b[0m\n\u001b[0m",
      "\u001b[0;31mTypeError\u001b[0m: string indices must be integers"
     ]
    }
   ],
   "source": [
    "#labels = [sub['labels'] for sub in f]\n",
    "\n",
    "\n",
    "from operator import itemgetter \n",
    "res = list(map(itemgetter('labels'), f)) "
   ]
  },
  {
   "cell_type": "code",
   "execution_count": 35,
   "metadata": {},
   "outputs": [],
   "source": [
    "import scipy.io\n",
    "import numpy as np\n",
    "data = scipy.io.loadmat('/Users/nadine/Downloads/Traces/traces.mat')\n",
    "\n",
    "for i in data:\n",
    "    if '__' not in i and 'readme' not in i:\n",
    "          np.savetxt((\"file.csv\"),data[i],delimiter=',')"
   ]
  },
  {
   "cell_type": "code",
   "execution_count": null,
   "metadata": {},
   "outputs": [],
   "source": []
  }
 ],
 "metadata": {
  "kernelspec": {
   "display_name": "Python 3",
   "language": "python",
   "name": "python3"
  },
  "language_info": {
   "codemirror_mode": {
    "name": "ipython",
    "version": 3
   },
   "file_extension": ".py",
   "mimetype": "text/x-python",
   "name": "python",
   "nbconvert_exporter": "python",
   "pygments_lexer": "ipython3",
   "version": "3.7.3"
  }
 },
 "nbformat": 4,
 "nbformat_minor": 2
}
