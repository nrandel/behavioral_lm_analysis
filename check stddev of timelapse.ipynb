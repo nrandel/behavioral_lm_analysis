{
 "cells": [
  {
   "cell_type": "code",
   "execution_count": 1,
   "metadata": {},
   "outputs": [],
   "source": [
    "#timeseries: Difference/Stddev between timepoints (Chris Barnes)\n",
    "#to make the plot in the notebook and not in an extra window\n",
    "%matplotlib notebook \n",
    "\n",
    "import csv\n",
    "import matplotlib.pyplot as plt\n",
    "import numpy as np\n",
    "import matplotlib.ticker as ticker\n",
    "import pandas as pd\n",
    "import glob, os\n",
    "import re"
   ]
  },
  {
   "cell_type": "code",
   "execution_count": 8,
   "metadata": {},
   "outputs": [
    {
     "name": "stdout",
     "output_type": "stream",
     "text": [
      "          time\n",
      "0        0.000\n",
      "1        0.332\n",
      "2        0.661\n",
      "3        0.990\n",
      "4        1.319\n",
      "5        1.648\n",
      "6        1.978\n",
      "7        2.307\n",
      "8        2.637\n",
      "9        2.966\n",
      "10       3.295\n",
      "11       3.624\n",
      "12       3.953\n",
      "13       4.282\n",
      "14       4.611\n",
      "15       4.941\n",
      "16       5.270\n",
      "17       5.599\n",
      "18       5.928\n",
      "19       6.258\n",
      "20       6.586\n",
      "21       6.916\n",
      "22       7.245\n",
      "23       7.574\n",
      "24       7.903\n",
      "25       8.233\n",
      "26       8.562\n",
      "27       8.891\n",
      "28       9.220\n",
      "29       9.549\n",
      "...        ...\n",
      "3431  1129.516\n",
      "3432  1129.845\n",
      "3433  1130.174\n",
      "3434  1130.504\n",
      "3435  1130.833\n",
      "3436  1131.162\n",
      "3437  1131.491\n",
      "3438  1131.821\n",
      "3439  1132.149\n",
      "3440  1132.479\n",
      "3441  1132.808\n",
      "3442  1133.137\n",
      "3443  1133.466\n",
      "3444  1133.795\n",
      "3445  1134.125\n",
      "3446  1134.454\n",
      "3447  1134.783\n",
      "3448  1135.113\n",
      "3449  1135.442\n",
      "3450  1135.771\n",
      "3451  1136.100\n",
      "3452  1136.429\n",
      "3453  1136.758\n",
      "3454  1137.088\n",
      "3455  1137.417\n",
      "3456  1137.746\n",
      "3457  1138.075\n",
      "3458  1138.405\n",
      "3459  1138.734\n",
      "3460  1139.063\n",
      "\n",
      "[3461 rows x 1 columns]\n"
     ]
    }
   ],
   "source": [
    "#open txt file from raw imaging data directories to the absolute time per frame \n",
    "\n",
    "with open('/Users/randeln/Documents/Zlatic_lab/close-loop/Notes/timelapse/17-08-24L2-1-time-cl.txt', 'r') as csvfile:\n",
    "\n",
    "    df = pd.read_csv(csvfile, header=1, index_col=None, delim_whitespace = True)\n",
    "    df = df.T #transposing because read_csv imports as row\n",
    "    df = df.reset_index() #transpose function sets data as index\n",
    "    df.rename(columns={'index':'time'}, inplace=True) #rename reset index column to time\n",
    "    df['time'] = df.time.astype(float)\n",
    "       \n",
    "\n",
    "print(df)"
   ]
  },
  {
   "cell_type": "code",
   "execution_count": 4,
   "metadata": {},
   "outputs": [
    {
     "name": "stdout",
     "output_type": "stream",
     "text": [
      "0.007000000000005002\n"
     ]
    }
   ],
   "source": [
    "#df[0:1]\n",
    "#df[1:2]\n",
    "#df.iloc[1]-df.iloc[2]\n",
    "\n",
    "diffs = np.diff(df[\"time\"])[10:] #from 10th row onwards\n",
    "#print(diffs)\n",
    "print(np.ptp(diffs)) #diff between min and max of the diffs\n",
    "#it1 = iter(df[\"time\"])\n",
    "#it2 = iter(df[\"time\"])\n",
    "#next(it2)\n",
    "\n",
    "#for first, second in zip(it1, it2):\n",
    "#    print(second - first)\n",
    "\n"
   ]
  },
  {
   "cell_type": "code",
   "execution_count": 11,
   "metadata": {},
   "outputs": [
    {
     "name": "stdout",
     "output_type": "stream",
     "text": [
      "0.329208115942029\n",
      "0.000576991887924719\n"
     ]
    }
   ],
   "source": [
    "#check standarddev\n",
    "\n",
    "diffs_avg = diffs.mean(axis=0)\n",
    "#time_min = df.min(axis=0)\n",
    "#time_max = df.max(axis=0)\n",
    "\n",
    "#standard deviation (distribution)\n",
    "diffs_std = diffs.std(axis = 0,)\n",
    "\n",
    "print(diffs_avg)\n",
    "print(diffs_std)"
   ]
  },
  {
   "cell_type": "code",
   "execution_count": 7,
   "metadata": {},
   "outputs": [
    {
     "name": "stdout",
     "output_type": "stream",
     "text": [
      "             time\n",
      "0        0.329208\n",
      "1        0.661208\n",
      "2        0.990208\n",
      "3        1.319208\n",
      "4        1.648208\n",
      "5        1.977208\n",
      "6        2.307208\n",
      "7        2.636208\n",
      "8        2.966208\n",
      "9        3.295208\n",
      "10       3.624208\n",
      "11       3.953208\n",
      "12       4.282208\n",
      "13       4.611208\n",
      "14       4.940208\n",
      "15       5.270208\n",
      "16       5.599208\n",
      "17       5.928208\n",
      "18       6.257208\n",
      "19       6.587208\n",
      "20       6.915208\n",
      "21       7.245208\n",
      "22       7.574208\n",
      "23       7.903208\n",
      "24       8.232208\n",
      "25       8.562208\n",
      "26       8.891208\n",
      "27       9.220208\n",
      "28       9.549208\n",
      "29       9.878208\n",
      "...           ...\n",
      "3431  1129.845208\n",
      "3432  1130.174208\n",
      "3433  1130.503208\n",
      "3434  1130.833208\n",
      "3435  1131.162208\n",
      "3436  1131.491208\n",
      "3437  1131.820208\n",
      "3438  1132.150208\n",
      "3439  1132.478208\n",
      "3440  1132.808208\n",
      "3441  1133.137208\n",
      "3442  1133.466208\n",
      "3443  1133.795208\n",
      "3444  1134.124208\n",
      "3445  1134.454208\n",
      "3446  1134.783208\n",
      "3447  1135.112208\n",
      "3448  1135.442208\n",
      "3449  1135.771208\n",
      "3450  1136.100208\n",
      "3451  1136.429208\n",
      "3452  1136.758208\n",
      "3453  1137.087208\n",
      "3454  1137.417208\n",
      "3455  1137.746208\n",
      "3456  1138.075208\n",
      "3457  1138.404208\n",
      "3458  1138.734208\n",
      "3459  1139.063208\n",
      "3460  1139.392208\n",
      "\n",
      "[3461 rows x 1 columns]\n"
     ]
    }
   ],
   "source": [
    "#take avg and add diff to end of the table to fill in the missing time points in the light data\n",
    "\n",
    "#df1 = df.append()\n",
    "\n",
    "df2 = df.add(diffs_avg)\n",
    "print(df2)"
   ]
  },
  {
   "cell_type": "code",
   "execution_count": null,
   "metadata": {},
   "outputs": [],
   "source": []
  }
 ],
 "metadata": {
  "anaconda-cloud": {},
  "kernelspec": {
   "display_name": "Python 3",
   "language": "python",
   "name": "python3"
  },
  "language_info": {
   "codemirror_mode": {
    "name": "ipython",
    "version": 3
   },
   "file_extension": ".py",
   "mimetype": "text/x-python",
   "name": "python",
   "nbconvert_exporter": "python",
   "pygments_lexer": "ipython3",
   "version": "3.7.3"
  }
 },
 "nbformat": 4,
 "nbformat_minor": 1
}
